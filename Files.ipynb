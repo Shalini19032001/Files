{
  "nbformat": 4,
  "nbformat_minor": 0,
  "metadata": {
    "colab": {
      "provenance": []
    },
    "kernelspec": {
      "name": "python3",
      "display_name": "Python 3"
    },
    "language_info": {
      "name": "python"
    }
  },
  "cells": [
    {
      "cell_type": "markdown",
      "source": [
        "#Files, exceptional handling, logging and    \n",
        "memory management Questions"
      ],
      "metadata": {
        "id": "h4Yv7gcuYC2-"
      }
    },
    {
      "cell_type": "markdown",
      "source": [
        "1.What is the difference between interpreted and compiled languages?\n",
        "\n",
        "- Interpreted Languages: Code is executed line by line by an interpreter (e.g., Python).\n",
        "- Compiled Languages: Code is converted into machine code by a compiler before execution (e.g., C, C++)."
      ],
      "metadata": {
        "id": "ek8VHY3rYiU1"
      }
    },
    {
      "cell_type": "markdown",
      "source": [
        "2. What is exception handling in Python?\n",
        "- It is a process of handling runtime errors using try, except, else, and finally blocks."
      ],
      "metadata": {
        "id": "JEZfSe2BY-5O"
      }
    },
    {
      "cell_type": "markdown",
      "source": [
        "3.What is the purpose of the finally block in exception handling?\n",
        "\n",
        "- The finally block always executes, regardless of whether an exception occurs or not."
      ],
      "metadata": {
        "id": "HKwuzsQsZJ1T"
      }
    },
    {
      "cell_type": "markdown",
      "source": [
        "4.What is logging in Python?\n",
        "\n",
        "- The logging module is used to track events during code execution for debugging and error handling."
      ],
      "metadata": {
        "id": "rXqtaY5wZRK4"
      }
    },
    {
      "cell_type": "markdown",
      "source": [
        "5. What is the significance of the __del__ method in Python?\n",
        "\n",
        "- It’s a destructor method called automatically when an object is deleted to clean up resources."
      ],
      "metadata": {
        "id": "-pvrfxvpZYHf"
      }
    },
    {
      "cell_type": "markdown",
      "source": [
        "6.What is the difference between import and from ... import in Python?\n",
        "\n",
        "- import module imports the whole module.\n",
        "from module import X imports only specific parts of the module."
      ],
      "metadata": {
        "id": "vEmPGLTbaAa-"
      }
    },
    {
      "cell_type": "markdown",
      "source": [
        "7. How can you handle multiple exceptions in Python?\n",
        "\n",
        "- Use multiple except blocks or except (Error1, Error2) to catch multiple exceptions."
      ],
      "metadata": {
        "id": "zWYFpZkQaJ7s"
      }
    },
    {
      "cell_type": "markdown",
      "source": [
        "8. What is the purpose of the with statement when handling files in Python?\n",
        "\n",
        "- It simplifies file handling by automatically closing the file after the block ends."
      ],
      "metadata": {
        "id": "MRnHGA_daRMK"
      }
    },
    {
      "cell_type": "markdown",
      "source": [
        "9.What is the difference between multithreading and multiprocessing?\n",
        "\n",
        "- Multithreading: Runs multiple threads in the same process.\n",
        "- Multiprocessing: Runs multiple processes, utilizing multiple CPU cores."
      ],
      "metadata": {
        "id": "wpAqljTLaYTn"
      }
    },
    {
      "cell_type": "markdown",
      "source": [
        "10. What are the advantages of using logging in a program?\n",
        "\n",
        "- Debugging, error tracking, and understanding program flow."
      ],
      "metadata": {
        "id": "ApadbIVta4hA"
      }
    },
    {
      "cell_type": "markdown",
      "source": [
        "11.What is memory management in Python?\n",
        "\n",
        "- Python uses dynamic memory allocation and automatic garbage collection."
      ],
      "metadata": {
        "id": "FG51TsLObMQ0"
      }
    },
    {
      "cell_type": "markdown",
      "source": [
        "12. What are the basic steps involved in exception handling in Python?\n",
        "\n",
        "- Use try, except, else, and finally."
      ],
      "metadata": {
        "id": "P-mxvSRIbpTo"
      }
    },
    {
      "cell_type": "markdown",
      "source": [
        "13. Why is memory management important in Python?\n",
        "\n",
        "- Prevents memory leaks and ensures optimal performance."
      ],
      "metadata": {
        "id": "0OAv9O2gbyEN"
      }
    },
    {
      "cell_type": "markdown",
      "source": [
        "14. What is the role of try and except in exception handling?\n",
        "\n",
        "- try holds the risky code; except handles the error."
      ],
      "metadata": {
        "id": "mXM48tzDb9yL"
      }
    },
    {
      "cell_type": "markdown",
      "source": [
        "15. How does Python's garbage collection system work?\n",
        "\n",
        "- Uses reference counting and cyclic garbage collection to free unused memory."
      ],
      "metadata": {
        "id": "Zt4m7VY3cOsq"
      }
    },
    {
      "cell_type": "markdown",
      "source": [
        "16. What is the purpose of the else block in exception handling?\n",
        "\n",
        "- Executes only if no exception occurs in the try block."
      ],
      "metadata": {
        "id": "2_Tj4CN2cVzx"
      }
    },
    {
      "cell_type": "markdown",
      "source": [
        "17.What are the common logging levels in Python?\n",
        "\n",
        "- DEBUG, INFO, WARNING, ERROR, CRITICAL."
      ],
      "metadata": {
        "id": "gxSiaXq3cgDH"
      }
    },
    {
      "cell_type": "markdown",
      "source": [
        "18. What is the difference between os.fork() and multiprocessing in Python?\n",
        "\n",
        "- os.fork() vs multiprocessing\n",
        "os.fork() creates a child process in Unix systems;\n",
        "- multiprocessing works cross-platform."
      ],
      "metadata": {
        "id": "TITEsToscggZ"
      }
    },
    {
      "cell_type": "markdown",
      "source": [
        "19. What is the importance of closing a file in Python?\n",
        "\n",
        "- Prevents data loss and corruption."
      ],
      "metadata": {
        "id": "iSPX72u8fPEK"
      }
    },
    {
      "cell_type": "markdown",
      "source": [
        "20. What is the difference between file.read() and file.readline() in Python?\n",
        "\n",
        "- file.read() reads the entire file; file.readline() reads one line at a time."
      ],
      "metadata": {
        "id": "YHVmyROIfYHk"
      }
    },
    {
      "cell_type": "markdown",
      "source": [
        "21.What is the logging module in Python used for?\n",
        "\n",
        "- Tracks and records program execution details."
      ],
      "metadata": {
        "id": "zyYGpYNBcg26"
      }
    },
    {
      "cell_type": "markdown",
      "source": [
        "22. What is the os module in Python used for in file handling?\n",
        "\n",
        "- Provides functions for interacting with the operating system."
      ],
      "metadata": {
        "id": "iacbRyPfchNB"
      }
    },
    {
      "cell_type": "markdown",
      "source": [
        "23. What are the challenges associated with memory management in Python?\n",
        "\n",
        "- Circular references and high memory consumption."
      ],
      "metadata": {
        "id": "2vuxa8Jrchim"
      }
    },
    {
      "cell_type": "markdown",
      "source": [
        "24. How do you raise an exception manually in Python?\n",
        "\n",
        "- Use raise Exception(\"Error message\")."
      ],
      "metadata": {
        "id": "pmBB0VTbch35"
      }
    },
    {
      "cell_type": "markdown",
      "source": [
        "25. Why is it important to use multithreading in certain applications?\n",
        "\n",
        "- Enhances performance in I/O-bound applications."
      ],
      "metadata": {
        "id": "PmNEk09Lxo1x"
      }
    },
    {
      "cell_type": "markdown",
      "source": [],
      "metadata": {
        "id": "RKXh4MHvxqAQ"
      }
    },
    {
      "cell_type": "markdown",
      "source": [
        "#Practical Questions"
      ],
      "metadata": {
        "id": "qZlBlTaAxqQ_"
      }
    },
    {
      "cell_type": "markdown",
      "source": [
        "1.How can you open a file for writing in Python and write a string to it?\n",
        "\n",
        "- with open(\"file.txt\", \"w\") as f:\n",
        "    f.write(\"Hello, Python!\")"
      ],
      "metadata": {
        "id": "TIf6NhF7xqh2"
      }
    },
    {
      "cell_type": "markdown",
      "source": [
        "2. Write a Python program to read the contents of a file and print each line.\n",
        "\n",
        "       with open(\"file.txt\", \"r\") as f:\n",
        "         for line in f:\n",
        "        print(line.strip())"
      ],
      "metadata": {
        "id": "Nlky3jJMxqvQ"
      }
    },
    {
      "cell_type": "markdown",
      "source": [
        "3. How would you handle a case where the file doesn't exist while trying to open it for reading?\n",
        "\n",
        "- try:\n",
        "       with open(\"nonexistent.txt\", \"r\") as f:\n",
        "        print(f.read())\n",
        "        except FileNotFoundError:\n",
        "        print(\"File not found.\")"
      ],
      "metadata": {
        "id": "m9hRLdVEyaj_"
      }
    },
    {
      "cell_type": "markdown",
      "source": [
        "4.Write a Python script that reads from one file and writes its content to another file.\n",
        "\n",
        "     with open(\"source.txt\", \"r\") as src,       open(\"destination.txt\", \"w\") as dest:\n",
        "        dest.write(src.read())"
      ],
      "metadata": {
        "id": "EXt9u5Sly3L4"
      }
    },
    {
      "cell_type": "markdown",
      "source": [
        "5. How would you catch and handle division by zero error in Python?\n",
        "\n",
        "- try:\n",
        "          result = 10 / 0\n",
        "          except ZeroDivisionError:\n",
        "          print(\"Cannot divide by zero.\")"
      ],
      "metadata": {
        "id": "UuEtmjimy3ea"
      }
    },
    {
      "cell_type": "markdown",
      "source": [
        "6. Write a Python program that logs an error message to a log file when a division by zero exception occurs.\n",
        "\n",
        "       import logging\n",
        "               logging.basicConfig(filename='error.log',   level=logging.ERROR)\n",
        "try:\n",
        "             result = 10 / 0\n",
        "         except ZeroDivisionError:\n",
        "        logging.error(\"Division by zero error occurred.\")"
      ],
      "metadata": {
        "id": "-o4pLcDsy3oV"
      }
    },
    {
      "cell_type": "markdown",
      "source": [
        "7. How do you log information at different levels (INFO, ERROR, WARNING) in Python using the logging module?\n",
        "\n",
        "       import logging\n",
        "       logging.basicConfig(level=logging.DEBUG)\n",
        "       logging.info(\"This is an info message.\")\n",
        "         logging.warning(\"This is a warning.\")\n",
        "       logging.error(\"This is an error.\")"
      ],
      "metadata": {
        "id": "S89WFM5Fy3xm"
      }
    },
    {
      "cell_type": "markdown",
      "source": [
        "8. Write a program to handle a file opening error using exception handling.\n",
        "\n",
        "- try:\n",
        "        with open(\"unknown.txt\") as file:\n",
        "        content = file.read()\n",
        "        except FileNotFoundError:\n",
        "         print(\"File not found.\")"
      ],
      "metadata": {
        "id": "_c1VUSFDy36Y"
      }
    },
    {
      "cell_type": "markdown",
      "source": [
        "9. How can you read a file line by line and store its content in a list in Python?\n",
        "\n",
        "        with open(\"file.txt\", \"r\") as f:\n",
        "          lines = f.readlines()\n",
        "            print(lines)"
      ],
      "metadata": {
        "id": "VK2cd-2by4Cr"
      }
    },
    {
      "cell_type": "markdown",
      "source": [
        "10. How can you append data to an existing file in Python?\n",
        "\n",
        "         with open(\"file.txt\", \"a\") as f:\n",
        "         f.write(\"\\nNew data appended.\")"
      ],
      "metadata": {
        "id": "fYp-XfKH1CAm"
      }
    },
    {
      "cell_type": "markdown",
      "source": [
        "11. Write a Python program that uses a try-except block to handle an error when attempting to access a\n",
        "dictionary key that doesn't exist.\n",
        "\n",
        "- try:\n",
        "         data = {\"name\": \"Alice\"}\n",
        "         print(data[\"age\"])\n",
        "         except KeyError:\n",
        "          print(\"Key not found.\")"
      ],
      "metadata": {
        "id": "jkStMO7U1CNz"
      }
    },
    {
      "cell_type": "markdown",
      "source": [
        "12. Write a program that demonstrates using multiple except blocks to handle different types of exceptions.\n",
        "\n",
        "- try:\n",
        "          x = 10 / 0\n",
        "          y = data[\"age\"]\n",
        "        except (ZeroDivisionError, KeyError) as e:\n",
        "        print(f\"Error occurred: {e}\")"
      ],
      "metadata": {
        "id": "G_DugSp41CWt"
      }
    },
    {
      "cell_type": "markdown",
      "source": [
        "13. How would you check if a file exists before attempting to read it in Python?\n",
        "\n",
        "\n",
        "             import os\n",
        "         if os.path.exists(\"file.txt\"):\n",
        "         with open(\"file.txt\") as f:\n",
        "        print(f.read())"
      ],
      "metadata": {
        "id": "drjMavZp1CeF"
      }
    },
    {
      "cell_type": "markdown",
      "source": [
        "14. Write a program that uses the logging module to log both informational and error messages\n",
        "\n",
        "        import logging\n",
        "        logging.basicConfig(filename='app.log', level=logging.INFO)\n",
        "        logging.info(\"Information log entry.\")\n",
        "        logging.error(\"Error log entry.\")"
      ],
      "metadata": {
        "id": "PvNTX2aH1ClE"
      }
    },
    {
      "cell_type": "markdown",
      "source": [
        "15. Write a Python program that prints the content of a file and handles the case when the file is empty?\n",
        "\n",
        "        with open(\"file.txt\") as f:\n",
        "        content = f.read()\n",
        "        if not content:\n",
        "        print(\"File is empty.\")\n",
        "        else:\n",
        "        print(content)"
      ],
      "metadata": {
        "id": "0Z2i3jBD2bCK"
      }
    },
    {
      "cell_type": "markdown",
      "source": [
        "16. Demonstrate how to use memory profiling to check the memory usage of a small program.\n",
        "\n",
        "         from memory_profiler import profile\n",
        "         @profile\n",
        "         def my_function():\n",
        "         a = [i for i in range(10000)]\n",
        "         my_function()"
      ],
      "metadata": {
        "id": "kVLcE2VF2s56"
      }
    },
    {
      "cell_type": "markdown",
      "source": [
        "17. Write a Python program to create and write a list of numbers to a file, one number per line.\n",
        "\n",
        "        with open(\"numbers.txt\", \"w\") as f:\n",
        "        for i in range(1, 11):\n",
        "        f.write(f\"{i}\\n\")"
      ],
      "metadata": {
        "id": "igYTtjgx27fc"
      }
    },
    {
      "cell_type": "markdown",
      "source": [
        "18. How would you implement a basic logging setup that logs to a file with rotation after 1MB.\n",
        "\n",
        "         import logging\n",
        "         from logging.handlers import    RotatingFileHandler\n",
        "\n",
        "         logger = logging.getLogger('MyLogger')\n",
        "         handler = RotatingFileHandler('app.log', maxBytes=1024*1024, backupCount=3)\n",
        "        logger.addHandler(handler)\n",
        "        logger.warning(\"This is a warning message.\")"
      ],
      "metadata": {
        "id": "T4pdD5VG3Eoq"
      }
    },
    {
      "cell_type": "markdown",
      "source": [
        "19. Write a program that handles both IndexError and KeyError using a try-except block.\n",
        "\n",
        " try:\n",
        "          lst = [1, 2, 3]\n",
        "          print(lst[5])  # IndexError\n",
        "          except IndexError:\n",
        "          print(\"Index out of range.\")"
      ],
      "metadata": {
        "id": "uVMeEVrf3eIC"
      }
    },
    {
      "cell_type": "markdown",
      "source": [
        "20. How would you open a file and read its contents using a context manager in Python?\n",
        "\n",
        "        with open(\"file.txt\", \"r\") as f:\n",
        "        content = f.read()\n",
        "         print(content)"
      ],
      "metadata": {
        "id": "y2VcwTFf3nRD"
      }
    },
    {
      "cell_type": "markdown",
      "source": [
        "21. Write a Python program that reads a file and prints the number of occurrences of a specific word.\n",
        "\n",
        "           word = \"Python\"\n",
        "          with open(\"file.txt\", \"r\") as f:\n",
        "         text = f.read()\n",
        "         print(text.count(word))"
      ],
      "metadata": {
        "id": "MNAyrxpe3wBs"
      }
    },
    {
      "cell_type": "markdown",
      "source": [
        "22.How can you check if a file is empty before attempting to read its contents?\n",
        "\n",
        "         import os\n",
        "        if os.stat(\"file.txt\").st_size == 0:\n",
        "        print(\"File is empty.\")"
      ],
      "metadata": {
        "id": "zPKyh_n1398E"
      }
    },
    {
      "cell_type": "markdown",
      "source": [
        "23. Write a Python program that writes to a log file when an error occurs during file handling.\n",
        "\n",
        "        import logging\n",
        "try:\n",
        "        with open(\"unknown.txt\") as f:\n",
        "        print(f.read())\n",
        "        except FileNotFoundError as e:\n",
        "        logging.error(f\"Error: {e}\")"
      ],
      "metadata": {
        "id": "OJ_uiVqg4GSH"
      }
    }
  ]
}